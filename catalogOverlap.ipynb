{
 "cells": [
  {
   "cell_type": "markdown",
   "id": "cd70f968",
   "metadata": {},
   "source": [
    "## SEARCH FOR DM SIGNALS FROM ELLIPTICAL GALAXIES - A STACKING ANALYSIS\n",
    "A. Steinhebel, GSFC, 2022"
   ]
  },
  {
   "cell_type": "markdown",
   "id": "c728b687",
   "metadata": {},
   "source": [
    "#### FIRST STEP OF ANALYSIS PIPELINE: Consider catalog(s) of elliptical galaxies and remove those not suitable for analysis. Require that:\n",
    "|b|>15deg ; >1deg separation between EG and blazar (sources from BZCAT catalog) ; >1 deg separation between EG and radio galaxy (sources from 2MRS catalog)"
   ]
  },
  {
   "cell_type": "markdown",
   "id": "e4fc5603",
   "metadata": {},
   "source": [
    "##### Import necessary packages"
   ]
  },
  {
   "cell_type": "code",
   "execution_count": 1,
   "id": "21386c1e",
   "metadata": {},
   "outputs": [],
   "source": [
    "import pandas as pd\n",
    "import matplotlib.pyplot as plt\n",
    "import astropy\n",
    "from astropy import units as u\n",
    "from astropy.coordinates import SkyCoord\n",
    "import math\n",
    "from astropy.io import fits\n",
    "from astropy.table import Table\n",
    "from os.path import exists"
   ]
  },
  {
   "cell_type": "markdown",
   "id": "c775ee9b",
   "metadata": {},
   "source": [
    "##### Define helpful functions "
   ]
  },
  {
   "cell_type": "code",
   "execution_count": 2,
   "id": "995e31db",
   "metadata": {},
   "outputs": [],
   "source": [
    "def galacticPlaneOverlap(egDF, deg:float=15.):\n",
    "#Remove candidates too close to galactic plane\n",
    "\n",
    "    print(\"Removing EGs with b<15deg\")\n",
    "    removed=0\n",
    "    toRemove=[]\n",
    "    for x in egDF.index:\n",
    "        if abs(egDF.loc[x,'b'])<deg:\n",
    "            toRemove.append(x) #remove row if b<15deg\n",
    "            removed+=1\n",
    "    print(f\"    Removed {removed} EGs - left with {(len(egDF.index)-removed)/len(egDF.index)*100:.2f}% of sample\")\n",
    "    return toRemove"
   ]
  },
  {
   "cell_type": "code",
   "execution_count": 3,
   "id": "39bfa185",
   "metadata": {},
   "outputs": [],
   "source": [
    "def compCat(compDFName, raIn, decIn, egDF, sep:float=1.0):\n",
    "\n",
    "    compDF=pd.read_csv(compDFName)\n",
    "    toRemove=[]\n",
    "    cl1=SkyCoord(l = egDF['l']*u.deg, b = egDF['b']*u.deg, frame='galactic').icrs\n",
    "    cl2 = SkyCoord(ra = compDF[raIn]*u.degree,dec = compDF[decIn]*u.degree)\n",
    "\n",
    "    #return arrays of elements from cl2 that match cl1\n",
    "    #index of cl2 object closest to the corresponding cl1 object, 2D distance between objects, 3D distance between object (if exists)\n",
    "    idx, d2d, d3d = cl1.match_to_catalog_sky(cl2)\n",
    "\n",
    "    #Max separation between EG and other source\n",
    "    max_sep = sep*u.degree #Maximum distance to neighbor\n",
    "    sep_constraint = d2d < max_sep #array of booleans corresponding to cl1 - True if sep too small and cl1 element should be removed\n",
    "    print(f\"    Eliminating {sep_constraint.sum()} EGs for overlap within {sep} deg\")\n",
    "\n",
    "    for i in range(len(egDF)):\n",
    "        if sep_constraint[i]:\n",
    "            toRemove.append(i)\n",
    "\n",
    "    return toRemove"
   ]
  },
  {
   "cell_type": "code",
   "execution_count": 4,
   "id": "536c4bbb",
   "metadata": {},
   "outputs": [],
   "source": [
    "def saveFromInput(saveFile, df, inputO:bool=False): \n",
    "    if inputO:\n",
    "        inp= 'a'\n",
    "        while inp!='y' and inp!='n':\n",
    "            print(\"Overwrite? y/n\")\n",
    "            inp = input()\n",
    "        savePlt=True if inp=='y' else False\t\n",
    "    else:\n",
    "        savePlt=True\n",
    "\n",
    "    if savePlt: \n",
    "        print(f\"Saving the remaining EGs to {saveFile}\")\n",
    "        df.to_csv(saveFile, index=False)"
   ]
  },
  {
   "cell_type": "markdown",
   "id": "1153b761",
   "metadata": {},
   "source": [
    "### Import and format EG catalog #1 - KH (https://arxiv.org/pdf/1304.7762.pdf) "
   ]
  },
  {
   "cell_type": "code",
   "execution_count": 5,
   "id": "1655becd",
   "metadata": {},
   "outputs": [],
   "source": [
    "egDF=pd.read_csv('EGs_KH.csv')\n",
    "\n",
    "#get l,b from other file\n",
    "egDF_mn=pd.read_csv('EGs_KH_lb.csv')\n",
    "egDF_mn[['Name','Type','Distance[Mpc]','Distance Uncert','Ks','M_KsT','M_VT','(V-Ks)_0','(B-V)_0','M_BH[Msolar*10e6]','Flags:M','Flags:C','Flags:M_BH','l','b']]=egDF_mn['Name;Type;Distance[Mpc];Ks;M_KsT;M_VT;(V-Ks)_0;(B-V)_0;M_BH[Msolar*10e6];Flags:M;Flags:C;Flags:M_BH;;l;b'].str.split(';', expand=True)\n",
    "egDF_mn.drop(columns=['Name;Type;Distance[Mpc];Ks;M_KsT;M_VT;(V-Ks)_0;(B-V)_0;M_BH[Msolar*10e6];Flags:M;Flags:C;Flags:M_BH;;l;b'], inplace=True)\n",
    "egDF['l']=egDF_mn['l']\n",
    "egDF['b']=egDF_mn['b']\n",
    "#Convert l,b to floats\n",
    "toConvert=['l','b']\n",
    "for colu in toConvert:\n",
    "    egDF[colu]=pd.to_numeric(egDF[colu])"
   ]
  },
  {
   "cell_type": "code",
   "execution_count": 6,
   "id": "9b06d7e0",
   "metadata": {},
   "outputs": [],
   "source": [
    "#Remove rows of NaN entries\n",
    "egDF.dropna(inplace=True)\n",
    "totEGs=len(egDF.index)"
   ]
  },
  {
   "cell_type": "code",
   "execution_count": 7,
   "id": "d339b442",
   "metadata": {},
   "outputs": [],
   "source": [
    "#Add RA/Dec in degrees to egDF\n",
    "c=SkyCoord(l = egDF['l']*u.deg, b = egDF['b']*u.deg, frame='galactic')\n",
    "eg_ra=[]\n",
    "eg_dec=[]\n",
    "for coord in c.icrs: #convert galactic coordinates to icrs RA/Dec\n",
    "    strcoord=coord.to_string()\n",
    "    eg_ra.append(float(strcoord.split(' ')[0]))\n",
    "    eg_dec.append(float(strcoord.split(' ')[1]))\n",
    "egDF['RA']=eg_ra\n",
    "egDF['Dec']=eg_dec\n",
    "\n",
    "cl1 = c.icrs #egDF SkyCoord object"
   ]
  },
  {
   "cell_type": "markdown",
   "id": "e2d60b0e",
   "metadata": {},
   "source": [
    "Save elements to remove in an array - at the end of the script, remove these elements (allows for simpler iteration)"
   ]
  },
  {
   "cell_type": "code",
   "execution_count": 8,
   "id": "e1b15255",
   "metadata": {},
   "outputs": [],
   "source": [
    "toRemove=[]"
   ]
  },
  {
   "cell_type": "markdown",
   "id": "0c7275a0",
   "metadata": {},
   "source": [
    "##### Compare to galactic plane"
   ]
  },
  {
   "cell_type": "code",
   "execution_count": 9,
   "id": "9d8287c9",
   "metadata": {},
   "outputs": [
    {
     "name": "stdout",
     "output_type": "stream",
     "text": [
      "Removing EGs with b<15deg\n",
      "    Removed 2 EGs - left with 95.56% of sample\n"
     ]
    }
   ],
   "source": [
    "toRemove.append(galacticPlaneOverlap(egDF))"
   ]
  },
  {
   "cell_type": "markdown",
   "id": "1df63c21",
   "metadata": {},
   "source": [
    "##### Compare to BZCAT Blazar catalog (https://www.ssdc.asi.it/bzcat5/) \n"
   ]
  },
  {
   "cell_type": "markdown",
   "id": "06f7b4f0",
   "metadata": {},
   "source": [
    "Define separation value to be considered overlap"
   ]
  },
  {
   "cell_type": "code",
   "execution_count": 10,
   "id": "e1ac01a9",
   "metadata": {},
   "outputs": [],
   "source": [
    "sep=1.0 \n",
    "max_sep = sep*u.degree #Maximum distance to neighbor"
   ]
  },
  {
   "cell_type": "code",
   "execution_count": 11,
   "id": "c79548e2",
   "metadata": {},
   "outputs": [
    {
     "name": "stdout",
     "output_type": "stream",
     "text": [
      "    Eliminating 17 EGs for overlap within 1.0 deg\n"
     ]
    }
   ],
   "source": [
    "#Identify closest source and mark for removal if separation<sep\n",
    "toRemove.append(compCat('bzcat_blazarCatalog.csv',' R.A. (J2000) ', ' Dec. (J2000) ', egDF))"
   ]
  },
  {
   "cell_type": "markdown",
   "id": "71edab68",
   "metadata": {},
   "source": [
    "##### Compare to 2MRS Radio galaxy catalog (http://ragolu.science.ru.nl/index.html))"
   ]
  },
  {
   "cell_type": "code",
   "execution_count": 12,
   "id": "8831ae43",
   "metadata": {},
   "outputs": [
    {
     "name": "stdout",
     "output_type": "stream",
     "text": [
      "    Eliminating 19 EGs for overlap within 1.0 deg\n"
     ]
    }
   ],
   "source": [
    "#Identify closest source and mark for removal if separation<sep\n",
    "toRemove.append(compCat('2mrs_radioCatalog.csv','ra', 'dec', egDF))"
   ]
  },
  {
   "cell_type": "markdown",
   "id": "40912c8b",
   "metadata": {},
   "source": [
    "##### Remove all EGs marked for removal"
   ]
  },
  {
   "cell_type": "code",
   "execution_count": 13,
   "id": "e8d92cef",
   "metadata": {},
   "outputs": [
    {
     "name": "stdout",
     "output_type": "stream",
     "text": [
      "Left with 17 of the original 45 EGs - 37.78%\n"
     ]
    }
   ],
   "source": [
    "toRemove=sum(toRemove, []) #flatten list\n",
    "toRemove = list(set(toRemove)) #remove duplicates\n",
    "toRemove.sort()\n",
    "for i in toRemove:\n",
    "    egDF.drop(i,inplace=True)\n",
    "\n",
    "print(f\"Left with {len(egDF)} of the original {totEGs} EGs - {100*len(egDF)/totEGs:.2f}%\")"
   ]
  },
  {
   "cell_type": "markdown",
   "id": "8f8f96c7",
   "metadata": {},
   "source": [
    "##### Save resulting EG list as new csv"
   ]
  },
  {
   "cell_type": "code",
   "execution_count": 14,
   "id": "b6a3e25b",
   "metadata": {},
   "outputs": [
    {
     "name": "stdout",
     "output_type": "stream",
     "text": [
      "Overwrite? y/n\n",
      "n\n"
     ]
    }
   ],
   "source": [
    "finalList=\"EGs_KH_overlapRemoved.csv\"\n",
    "saveFromInput(finalList,egDF,exists(finalList))"
   ]
  },
  {
   "cell_type": "markdown",
   "id": "b59751a5",
   "metadata": {},
   "source": [
    "##### Clear catalog-specific variables"
   ]
  },
  {
   "cell_type": "code",
   "execution_count": 15,
   "id": "96c0605c",
   "metadata": {},
   "outputs": [],
   "source": [
    "del egDF\n",
    "del totEGs\n",
    "del toRemove\n",
    "del finalList"
   ]
  },
  {
   "cell_type": "markdown",
   "id": "129939ab",
   "metadata": {},
   "source": [
    "### Import EG catalog #2 - DF (https://academic.oup.com/mnras/article/460/4/4492/2609151)"
   ]
  },
  {
   "cell_type": "markdown",
   "id": "b37097ad",
   "metadata": {},
   "source": [
    "Catalog should have been prepared previously with tables_DF/makeCSV.py . The resulting EGs_DF.csv should be moved to this directory. No formatting needed - all done in the creation step with tables_DF/makeCSV.py"
   ]
  },
  {
   "cell_type": "code",
   "execution_count": 16,
   "id": "7bd4feb6",
   "metadata": {},
   "outputs": [],
   "source": [
    "egDF=pd.read_csv('EGs_DF.csv')\n",
    "totEGs=len(egDF)"
   ]
  },
  {
   "cell_type": "markdown",
   "id": "dcd9f69d",
   "metadata": {},
   "source": [
    "Save elements to remove in an array - at the end of the script, remove these elements (allows for simpler iteration)"
   ]
  },
  {
   "cell_type": "code",
   "execution_count": 17,
   "id": "f8627721",
   "metadata": {},
   "outputs": [],
   "source": [
    "toRemove=[]"
   ]
  },
  {
   "cell_type": "markdown",
   "id": "5dd35601",
   "metadata": {},
   "source": [
    "##### Compare to galactic plane"
   ]
  },
  {
   "cell_type": "code",
   "execution_count": 18,
   "id": "56e29c4b",
   "metadata": {},
   "outputs": [
    {
     "name": "stdout",
     "output_type": "stream",
     "text": [
      "Removing EGs with b<15deg\n",
      "    Removed 5 EGs - left with 99.71% of sample\n"
     ]
    }
   ],
   "source": [
    "toRemove.append(galacticPlaneOverlap(egDF))"
   ]
  },
  {
   "cell_type": "markdown",
   "id": "1d7496ad",
   "metadata": {},
   "source": [
    "##### Compare to BZCAT Blazar catalog (https://www.ssdc.asi.it/bzcat5/) \n"
   ]
  },
  {
   "cell_type": "code",
   "execution_count": 19,
   "id": "a18656eb",
   "metadata": {},
   "outputs": [
    {
     "name": "stdout",
     "output_type": "stream",
     "text": [
      "    Eliminating 728 EGs for overlap within 1.0 deg\n"
     ]
    }
   ],
   "source": [
    "#Identify closest source and mark for removal if separation<sep\n",
    "toRemove.append(compCat('bzcat_blazarCatalog.csv',' R.A. (J2000) ', ' Dec. (J2000) ', egDF))"
   ]
  },
  {
   "cell_type": "markdown",
   "id": "a639880f",
   "metadata": {},
   "source": [
    "##### Compare to 2MRS Radio galaxy catalog (http://ragolu.science.ru.nl/index.html))"
   ]
  },
  {
   "cell_type": "code",
   "execution_count": 20,
   "id": "c4544242",
   "metadata": {},
   "outputs": [
    {
     "name": "stdout",
     "output_type": "stream",
     "text": [
      "    Eliminating 954 EGs for overlap within 1.0 deg\n"
     ]
    }
   ],
   "source": [
    "#Identify closest source and mark for removal if separation<sep\n",
    "toRemove.append(compCat('2mrs_radioCatalog.csv','ra', 'dec', egDF))"
   ]
  },
  {
   "cell_type": "markdown",
   "id": "f9b6b92b",
   "metadata": {},
   "source": [
    "##### Remove all EGs marked for removal"
   ]
  },
  {
   "cell_type": "code",
   "execution_count": 21,
   "id": "d4d38b06",
   "metadata": {},
   "outputs": [
    {
     "name": "stdout",
     "output_type": "stream",
     "text": [
      "Left with 466 of the original 1715 EGs - 27.17%\n"
     ]
    }
   ],
   "source": [
    "toRemove=sum(toRemove, []) #flatten list\n",
    "toRemove = list(set(toRemove)) #remove duplicates\n",
    "toRemove.sort()\n",
    "for i in toRemove:\n",
    "    egDF.drop(i,inplace=True)\n",
    "\n",
    "print(f\"Left with {len(egDF)} of the original {totEGs} EGs - {100*len(egDF)/totEGs:.2f}%\")"
   ]
  },
  {
   "cell_type": "markdown",
   "id": "c4de9abc",
   "metadata": {},
   "source": [
    "##### Save resulting EG list as new csv"
   ]
  },
  {
   "cell_type": "code",
   "execution_count": 22,
   "id": "67e4e5ba",
   "metadata": {
    "scrolled": true
   },
   "outputs": [
    {
     "name": "stdout",
     "output_type": "stream",
     "text": [
      "Overwrite? y/n\n",
      "n\n"
     ]
    }
   ],
   "source": [
    "finalList=\"EGs_DF_overlapRemoved.csv\"\n",
    "saveFromInput(finalList,egDF,exists(finalList))"
   ]
  }
 ],
 "metadata": {
  "kernelspec": {
   "display_name": "Python 3",
   "language": "python",
   "name": "python3"
  },
  "language_info": {
   "codemirror_mode": {
    "name": "ipython",
    "version": 3
   },
   "file_extension": ".py",
   "mimetype": "text/x-python",
   "name": "python",
   "nbconvert_exporter": "python",
   "pygments_lexer": "ipython3",
   "version": "3.8.8"
  }
 },
 "nbformat": 4,
 "nbformat_minor": 5
}
