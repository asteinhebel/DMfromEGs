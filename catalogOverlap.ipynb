{
 "cells": [
  {
   "cell_type": "markdown",
   "id": "77109df5",
   "metadata": {},
   "source": [
    "## SEARCH FOR DM SIGNALS FROM ELLIPTICAL GALAXIES - A STACKING ANALYSIS\n",
    "A. Steinhebel, GSFC, 2022"
   ]
  },
  {
   "cell_type": "markdown",
   "id": "ab424f0c",
   "metadata": {},
   "source": [
    "#### FIRST STEP OF ANALYSIS PIPELINE: Consider catalog(s) of elliptical galaxies and remove those not suitable for analysis. Require that:\n",
    "|b|>15deg ; >1deg separation between EG and blazar (sources from BZCAT catalog) ; >1 deg separation between EG and radio galaxy (sources from 2MRS catalog)"
   ]
  },
  {
   "cell_type": "markdown",
   "id": "e405e813",
   "metadata": {},
   "source": [
    "##### Import necessary packages"
   ]
  },
  {
   "cell_type": "code",
   "execution_count": 1,
   "id": "d71e8e85",
   "metadata": {},
   "outputs": [],
   "source": [
    "import pandas as pd\n",
    "import matplotlib.pyplot as plt\n",
    "import astropy\n",
    "from astropy import units as u\n",
    "from astropy.coordinates import SkyCoord\n",
    "import math\n",
    "from astropy.io import fits\n",
    "from astropy.table import Table"
   ]
  },
  {
   "cell_type": "markdown",
   "id": "31af1cfd",
   "metadata": {},
   "source": [
    "##### Import and format EG catalog (https://arxiv.org/pdf/1304.7762.pdf) "
   ]
  },
  {
   "cell_type": "code",
   "execution_count": 2,
   "id": "5bbda848",
   "metadata": {},
   "outputs": [],
   "source": [
    "egDF=pd.read_csv('EGs_new.csv')\n",
    "\n",
    "#get l,b from other file\n",
    "egDF_mn=pd.read_csv('EGsTable.csv')\n",
    "egDF_mn[['Name','Type','Distance[Mpc]','Distance Uncert','Ks','M_KsT','M_VT','(V-Ks)_0','(B-V)_0','M_BH[Msolar*10e6]','Flags:M','Flags:C','Flags:M_BH','l','b']]=egDF_mn['Name;Type;Distance[Mpc];Ks;M_KsT;M_VT;(V-Ks)_0;(B-V)_0;M_BH[Msolar*10e6];Flags:M;Flags:C;Flags:M_BH;;l;b'].str.split(';', expand=True)\n",
    "egDF_mn.drop(columns=['Name;Type;Distance[Mpc];Ks;M_KsT;M_VT;(V-Ks)_0;(B-V)_0;M_BH[Msolar*10e6];Flags:M;Flags:C;Flags:M_BH;;l;b'], inplace=True)\n",
    "egDF['l']=egDF_mn['l']\n",
    "egDF['b']=egDF_mn['b']\n",
    "#Convert l,b to floats\n",
    "toConvert=['l','b']\n",
    "for colu in toConvert:\n",
    "    egDF[colu]=pd.to_numeric(egDF[colu])"
   ]
  },
  {
   "cell_type": "code",
   "execution_count": 3,
   "id": "579cb671",
   "metadata": {},
   "outputs": [],
   "source": [
    "#Remove rows of NaN entries\n",
    "egDF.dropna(inplace=True)\n",
    "totEGs=len(egDF.index)"
   ]
  },
  {
   "cell_type": "code",
   "execution_count": 4,
   "id": "d6ade270",
   "metadata": {},
   "outputs": [],
   "source": [
    "#Add RA/Dec in degrees to egDF\n",
    "c=SkyCoord(l = egDF['l']*u.deg, b = egDF['b']*u.deg, frame='galactic')\n",
    "eg_ra=[]\n",
    "eg_dec=[]\n",
    "for coord in c.icrs: #convert galactic coordinates to icrs RA/Dec\n",
    "    strcoord=coord.to_string()\n",
    "    eg_ra.append(float(strcoord.split(' ')[0]))\n",
    "    eg_dec.append(float(strcoord.split(' ')[1]))\n",
    "egDF['RA']=eg_ra\n",
    "egDF['Dec']=eg_dec\n",
    "\n",
    "cl1 = c.icrs #egDF SkyCoord object"
   ]
  },
  {
   "cell_type": "markdown",
   "id": "04ac9977",
   "metadata": {},
   "source": [
    "Save elements to remove in an array - at the end of the script, remove these elements (allows for simpler iteration)"
   ]
  },
  {
   "cell_type": "code",
   "execution_count": 5,
   "id": "fc50f977",
   "metadata": {},
   "outputs": [],
   "source": [
    "toRemove=[]"
   ]
  },
  {
   "cell_type": "code",
   "execution_count": 6,
   "id": "7329918e",
   "metadata": {},
   "outputs": [
    {
     "name": "stdout",
     "output_type": "stream",
     "text": [
      "Removed 2 EGs - left with 0.96% of sample\n"
     ]
    }
   ],
   "source": [
    "#Remove candidates too close to galactic plane\n",
    "removed=0\n",
    "for x in egDF.index:\n",
    "    if abs(egDF.loc[x,'b'])<15:\n",
    "        toRemove.append(x) #remove row if b<15deg\n",
    "        removed+=1\n",
    "print(f\"Removed {removed} EGs - left with {(totEGs-removed)/totEGs:.2f}% of sample\")\n"
   ]
  },
  {
   "cell_type": "markdown",
   "id": "de841b78",
   "metadata": {},
   "source": [
    "##### Compare to BZCAT Blazar catalog (https://www.ssdc.asi.it/bzcat5/) \n"
   ]
  },
  {
   "cell_type": "markdown",
   "id": "af0d6495",
   "metadata": {},
   "source": [
    "Define separation value to be considered overlap"
   ]
  },
  {
   "cell_type": "code",
   "execution_count": 7,
   "id": "ae4d2e80",
   "metadata": {},
   "outputs": [],
   "source": [
    "sep=1.0 \n",
    "max_sep = sep*u.degree #Maximum distance to neighbor"
   ]
  },
  {
   "cell_type": "code",
   "execution_count": 8,
   "id": "bfe8fdda",
   "metadata": {},
   "outputs": [],
   "source": [
    "#Import catalog\n",
    "blazarDF=pd.read_csv('bzcat_blazarCatalog.csv')\n",
    "cl2 = SkyCoord(ra = blazarDF[' R.A. (J2000) ']*u.degree,dec = blazarDF[' Dec. (J2000) ']*u.degree)"
   ]
  },
  {
   "cell_type": "code",
   "execution_count": 9,
   "id": "8c7a9a3b",
   "metadata": {},
   "outputs": [],
   "source": [
    "#return arrays of elements from cl2 that are closest to element in cl1\n",
    "#index of cl2 object closest to the corresponding cl1 object, 2D distance between objects, 3D distance between object (if exists)\n",
    "idx, d2d, d3d = cl1.match_to_catalog_sky(cl2)"
   ]
  },
  {
   "cell_type": "code",
   "execution_count": 10,
   "id": "d6448903",
   "metadata": {},
   "outputs": [
    {
     "name": "stdout",
     "output_type": "stream",
     "text": [
      "Eliminating 17 EGs for overlap with BZCAT catalog\n"
     ]
    }
   ],
   "source": [
    "#Identify closest source and mark for removal if separation<sep\n",
    "sep_constraint = d2d < max_sep #array of booleans corresponding to cl1 - True if sep too small and cl1 element should be removed\n",
    "print(f\"Eliminating {sep_constraint.sum()} EGs for overlap with BZCAT catalog\")\n",
    "\n",
    "for i in range(len(egDF)):\n",
    "    if sep_constraint[i]:\n",
    "        toRemove.append(i)"
   ]
  },
  {
   "cell_type": "markdown",
   "id": "00d6e300",
   "metadata": {},
   "source": [
    "##### Compare to 2MRS Radio galaxy catalog (http://ragolu.science.ru.nl/index.html))"
   ]
  },
  {
   "cell_type": "code",
   "execution_count": 11,
   "id": "2d692bc1",
   "metadata": {},
   "outputs": [],
   "source": [
    "#import catalog\n",
    "radioDF=pd.read_csv('2mrs_radioCatalog.csv')\n",
    "cl3 = SkyCoord(ra = radioDF['ra']*u.degree,dec = radioDF['dec']*u.degree)"
   ]
  },
  {
   "cell_type": "code",
   "execution_count": 12,
   "id": "7ed0c082",
   "metadata": {},
   "outputs": [],
   "source": [
    "#return array of elements from cl3 that are closest to element in cl1\n",
    "idx, d2d, d3d = cl1.match_to_catalog_sky(cl3)"
   ]
  },
  {
   "cell_type": "code",
   "execution_count": 13,
   "id": "4ce545cb",
   "metadata": {},
   "outputs": [
    {
     "name": "stdout",
     "output_type": "stream",
     "text": [
      "Eliminating 19 EGs for overlap with 2MRS catalog - within 1.0 deg\n"
     ]
    }
   ],
   "source": [
    "#Identify closest source and mark for removal if separation<sep\n",
    "sep_constraint = d2d < max_sep #array of booleans corresponding to cl1 - True if sep too small and cl1 element should be removed\n",
    "print(f\"Eliminating {sep_constraint.sum()} EGs for overlap with 2MRS catalog - within {sep} deg\")\n",
    "\n",
    "for i in range(len(egDF)):\n",
    "    if sep_constraint[i]:\n",
    "        toRemove.append(i)"
   ]
  },
  {
   "cell_type": "markdown",
   "id": "90e70199",
   "metadata": {},
   "source": [
    "##### Remove all EGs marked for removal"
   ]
  },
  {
   "cell_type": "code",
   "execution_count": 14,
   "id": "974bf676",
   "metadata": {},
   "outputs": [
    {
     "name": "stdout",
     "output_type": "stream",
     "text": [
      "Left with 17 of the original 45 EGs - 37.78%\n"
     ]
    }
   ],
   "source": [
    "toRemove=list(set(toRemove))\n",
    "toRemove.sort()\n",
    "for i in toRemove:\n",
    "    egDF.drop(i,inplace=True)\n",
    "\n",
    "print(f\"Left with {len(egDF)} of the original {totEGs} EGs - {100*len(egDF)/totEGs:.2f}%\")"
   ]
  },
  {
   "cell_type": "markdown",
   "id": "eb4cf659",
   "metadata": {},
   "source": [
    "##### Save resulting EG list as new csv"
   ]
  },
  {
   "cell_type": "code",
   "execution_count": 15,
   "id": "e8de5373",
   "metadata": {},
   "outputs": [
    {
     "name": "stdout",
     "output_type": "stream",
     "text": [
      "Saving the remaining EGs to EGs_overlapRemoved.csv\n"
     ]
    }
   ],
   "source": [
    "finalList=\"EGs_overlapRemoved.csv\"\n",
    "print(f\"Saving the remaining EGs to {finalList}\")\n",
    "egDF.to_csv(finalList, index=False)"
   ]
  }
 ],
 "metadata": {
  "kernelspec": {
   "display_name": "Python 3",
   "language": "python",
   "name": "python3"
  },
  "language_info": {
   "codemirror_mode": {
    "name": "ipython",
    "version": 3
   },
   "file_extension": ".py",
   "mimetype": "text/x-python",
   "name": "python",
   "nbconvert_exporter": "python",
   "pygments_lexer": "ipython3",
   "version": "3.8.8"
  }
 },
 "nbformat": 4,
 "nbformat_minor": 5
}
